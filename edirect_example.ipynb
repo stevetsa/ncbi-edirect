{
 "cells": [
  {
   "cell_type": "code",
   "execution_count": 2,
   "id": "89a60315-a097-404c-809e-7a368340c5c4",
   "metadata": {},
   "outputs": [
    {
     "name": "stdout",
     "output_type": "stream",
     "text": [
      "<ENTREZ_DIRECT>\n",
      "  <Db>taxonomy</Db>\n",
      "  <WebEnv>MCID_68d6cd9e15172da120001f71</WebEnv>\n",
      "  <QueryKey>1</QueryKey>\n",
      "  <Count>1</Count>\n",
      "  <Step>1</Step>\n",
      "  <Elapsed>2</Elapsed>\n",
      "</ENTREZ_DIRECT>\n"
     ]
    }
   ],
   "source": [
    "#test esearch - the \"!\" allows Jupyter Notebook to recognize the following unix command\n",
    "!esearch -db taxonomy -query \"Saccharomyces cerevisiae\""
   ]
  },
  {
   "cell_type": "code",
   "execution_count": 5,
   "id": "9326ad0f-fc0b-4fdf-82c2-d7887e33d2f2",
   "metadata": {},
   "outputs": [
    {
     "name": "stdout",
     "output_type": "stream",
     "text": [
      "<ENTREZ_DIRECT>\n",
      "  <Db>taxonomy</Db>\n",
      "  <WebEnv>MCID_68d6ce56388343425f00daef</WebEnv>\n",
      "  <QueryKey>1</QueryKey>\n",
      "  <Count>1</Count>\n",
      "  <Step>1</Step>\n",
      "  <Elapsed>1</Elapsed>\n",
      "</ENTREZ_DIRECT>\n"
     ]
    }
   ],
   "source": [
    "#test esearch\n",
    "!esearch -db taxonomy -query \"Escherichia coli\" < /dev/null"
   ]
  },
  {
   "cell_type": "code",
   "execution_count": 4,
   "id": "68b814db-33b0-4e0a-971d-ef49bd83354c",
   "metadata": {},
   "outputs": [],
   "source": [
    "#test esearch and efetch \n",
    "#note (very long) output in a file - efetch.output.txt \n",
    "!esearch -db taxonomy -query \"Escherichia coli\" | efetch -format docsum > efetch.output.txt"
   ]
  },
  {
   "cell_type": "code",
   "execution_count": 9,
   "id": "d49e6e01-c701-43bd-abe7-c984271fca8c",
   "metadata": {},
   "outputs": [
    {
     "name": "stdout",
     "output_type": "stream",
     "text": [
      "E coli\tEscherichia coli\tenterobacteria\n"
     ]
    }
   ],
   "source": [
    "#test to combine all three commands - esearch, efetch and xtract\n",
    "\n",
    "!esearch -db taxonomy -query \"Escherichia coli\" < /dev/null | efetch -format docsum | xtract -pattern DocumentSummary -lbl \"E coli\" -element ScientificName Division "
   ]
  },
  {
   "cell_type": "code",
   "execution_count": 10,
   "id": "e4175fae-8fc0-4420-8bb5-777a74bb2946",
   "metadata": {},
   "outputs": [],
   "source": [
    "#change file permission so you can executive this script\n",
    "!chmod 777 taxonomy.sh"
   ]
  },
  {
   "cell_type": "code",
   "execution_count": 12,
   "id": "e7aae08a-1d3d-4d7e-98e4-155c0c46da96",
   "metadata": {},
   "outputs": [
    {
     "name": "stdout",
     "output_type": "stream",
     "text": [
      "Escherichia coli\tEnterobacteriaceae\tenterobacteria\n",
      "Saccharomyces cerevisiae\tSaccharomycetaceae\tbudding yeasts & allies\n",
      "Arabidopsis thaliana\tBrassicaceae\teudicots\n",
      "Caenorhabditis elegans\tRhabditidae\tnematodes\n",
      "Drosophila\tPsathyrellaceae\tbasidiomycete fungi\n",
      "Drosophila\tDrosophilidae\tflies\n",
      "Danio rerio\tDanionidae\tray-finned fishes\n",
      "melanogaster\tMelanogastraceae\tbasidiomycete fungi\n",
      "melanogaster\tSyrphidae\tflies\n",
      "Mus musculus\tMuridae\trodents\n",
      "Homo sapiens\tHominidae\tprimates\n"
     ]
    }
   ],
   "source": [
    "#run script\n",
    "!./taxonomy.sh < organisms.txt"
   ]
  },
  {
   "cell_type": "code",
   "execution_count": null,
   "id": "ca78d389-6402-435d-9d00-fbc6f7178745",
   "metadata": {},
   "outputs": [],
   "source": []
  }
 ],
 "metadata": {
  "kernelspec": {
   "display_name": "Python 3 (ipykernel)",
   "language": "python",
   "name": "python3"
  },
  "language_info": {
   "codemirror_mode": {
    "name": "ipython",
    "version": 3
   },
   "file_extension": ".py",
   "mimetype": "text/x-python",
   "name": "python",
   "nbconvert_exporter": "python",
   "pygments_lexer": "ipython3",
   "version": "3.10.16"
  }
 },
 "nbformat": 4,
 "nbformat_minor": 5
}
